{
 "cells": [
  {
   "cell_type": "code",
   "execution_count": 2,
   "metadata": {},
   "outputs": [],
   "source": [
    "import pandas as pd\n",
    "import numpy as np\n",
    "import matplotlib as plt"
   ]
  },
  {
   "cell_type": "markdown",
   "metadata": {},
   "source": [
    "# Math Operations\n",
    "You can use Python to do simple to complex arithmetic"
   ]
  },
  {
   "cell_type": "code",
   "execution_count": 3,
   "metadata": {},
   "outputs": [
    {
     "data": {
      "text/plain": [
       "225"
      ]
     },
     "execution_count": 3,
     "metadata": {},
     "output_type": "execute_result"
    }
   ],
   "source": [
    "#Addition\n",
    "5 + 5\n",
    "#Subtraction\n",
    "5 - 4\n",
    "#Multiplication\n",
    "3 * 6\n",
    "#Division\n",
    "4 / 2\n",
    "#Power\n",
    "4 ** 2\n",
    "#Combinations\n",
    "(4 + 6)/2\n",
    "(3 * 5)**2"
   ]
  },
  {
   "cell_type": "markdown",
   "metadata": {},
   "source": [
    "# Variable Types\n",
    "**1. Integer <br>**\n",
    "Stores any whole number (i.e. 1, 200, 30567,etc.)\n",
    "\n",
    "**2. Real (float) <br>**\n",
    "Stores decimals (1.0, 200.24, 30.567)\n",
    "\n",
    "**3. String** <br>\n",
    "Stores text (a collection of characters including letters, spaces, punctuation, numbers)\n",
    "\n",
    "**3. Boolean** <br>\n",
    "Stores logic that can take on two values: True or False\n"
   ]
  },
  {
   "cell_type": "markdown",
   "metadata": {},
   "source": [
    "## Integer\n",
    "Stores any whole number (i.e. 1, 200, 30567,etc.)"
   ]
  },
  {
   "cell_type": "code",
   "execution_count": 4,
   "metadata": {},
   "outputs": [
    {
     "data": {
      "text/plain": [
       "5.0"
      ]
     },
     "execution_count": 4,
     "metadata": {},
     "output_type": "execute_result"
    }
   ],
   "source": [
    "#creating a variable named \"x\" and storing within it the number 5\n",
    "x = 5\n",
    "#simple algebra\n",
    "x + 5\n",
    "x ** 2\n",
    "(x + 5)/2"
   ]
  },
  {
   "cell_type": "markdown",
   "metadata": {},
   "source": [
    "## Real (float)\n",
    "Stores decimals (1.0, 200.24, 30.567)"
   ]
  },
  {
   "cell_type": "code",
   "execution_count": 5,
   "metadata": {},
   "outputs": [
    {
     "data": {
      "text/plain": [
       "9.5"
      ]
     },
     "execution_count": 5,
     "metadata": {},
     "output_type": "execute_result"
    }
   ],
   "source": [
    "#storing a float value\n",
    "flt = 4.5\n",
    "#simple algebra\n",
    "flt + 5\n",
    "#add variables\n",
    "x + flt\n"
   ]
  },
  {
   "cell_type": "markdown",
   "metadata": {},
   "source": [
    "## String\n",
    "Stores text (a collection of characters including letters, spaces, punctuation, numbers)"
   ]
  },
  {
   "cell_type": "code",
   "execution_count": 6,
   "metadata": {},
   "outputs": [
    {
     "data": {
      "text/plain": [
       "12"
      ]
     },
     "execution_count": 6,
     "metadata": {},
     "output_type": "execute_result"
    }
   ],
   "source": [
    "#storing a string value\n",
    "y = \"hello world!\"\n",
    "#how many characters in this string? (note: how it also counts the space & punctuation)\n",
    "len(y)\n"
   ]
  },
  {
   "cell_type": "markdown",
   "metadata": {},
   "source": [
    "# Basic Data Structures\n",
    "What is a data structure?\n",
    "* A way to organize and store data on a computer\n",
    "* Kind of like how we use closets, dressers, shelves to help organize our clothing, we use different data structures to store and organize data depending on how we are planning to use them\n",
    "\n",
    "## Data Structures (Basic)\n",
    "The data structures listed below is not a complete list but are very basic ones to help us get started\n",
    "\n",
    "**1. List <br>**\n",
    "A way to store something sequentially, where each item in the list has an index value.  \n",
    "\n",
    "**2. Tuple <br>**\n",
    "The exact same as a list, except you cannot change it once it has been defined\n",
    "\n",
    "**4. Dictionary <br>**\n",
    "Allows you to store key-value pairs. This means you can give a name to the index"
   ]
  },
  {
   "cell_type": "markdown",
   "metadata": {},
   "source": [
    "## Lists\n",
    "Imagine having a line a people, where each person in the line is assigned a value in the order they are standing in line. (i.e. the first person in the line is given the number 0 and so on) <br>\n",
    "\n",
    "<img src=\"./images/people_in_line.png\" width=\"400\" height=\"200\"><br>\n",
    "\n",
    "Then if you need to ask for a specific person in the line, you can just ask for that person based off of their number (what index they are at). <br>\n",
    "For example, if you want the person looking up, you would say \"Can I please see the person at index 2?\""
   ]
  },
  {
   "cell_type": "code",
   "execution_count": 8,
   "metadata": {},
   "outputs": [
    {
     "data": {
      "text/plain": [
       "'ice cream'"
      ]
     },
     "execution_count": 8,
     "metadata": {},
     "output_type": "execute_result"
    }
   ],
   "source": [
    "#List Example\n",
    "#grocery list\n",
    "groceries = [\"apple\", \"cookies\", \"ice cream\",\"banana\"]\n",
    "#access a particular item in list\n",
    "groceries[2]"
   ]
  },
  {
   "cell_type": "markdown",
   "metadata": {},
   "source": [
    "### Slicing\n",
    "A way to cut up a list in order to get just portion of it<br>\n"
   ]
  },
  {
   "cell_type": "code",
   "execution_count": 54,
   "metadata": {},
   "outputs": [
    {
     "data": {
      "text/plain": [
       "list"
      ]
     },
     "execution_count": 54,
     "metadata": {},
     "output_type": "execute_result"
    }
   ],
   "source": [
    "#selecting many items in a list\n",
    "dessert = groceries[1:3]\n",
    "dessert ##notice how we now have a smaller list with items we wanted/selected\n",
    "type(dessert)"
   ]
  },
  {
   "cell_type": "markdown",
   "metadata": {},
   "source": [
    "Why doesn't it include the item at index 3?\n",
    "* Python slicing is inclusive exclusive. What this means is it includes the item at the first index specified and all other items up to but not including the the last index specified\n",
    "* Below you can see this concept represented mathematically as well as in python\n",
    "\n",
    "<img src=\"./images/slicing.png\" width=\"400\" height=\"200\"><br>"
   ]
  },
  {
   "cell_type": "code",
   "execution_count": 10,
   "metadata": {},
   "outputs": [
    {
     "data": {
      "text/plain": [
       "['apple', 'banana', 'ice cream', 'cookies']"
      ]
     },
     "execution_count": 10,
     "metadata": {},
     "output_type": "execute_result"
    }
   ],
   "source": [
    "#selecting non-consecutive items\n",
    "##notice how here we are actually adding two lists together\n",
    "fruit = groceries[0:1] + groceries[3:] #[3:] indicates from 3 to the end of the list\n",
    "fruit\n",
    "\n",
    "# adding lists\n",
    "fruits = [\"apple\", \"banana\"]\n",
    "desserts = [\"ice cream\", \"cookies\"]\n",
    "grocery_list = fruits + desserts\n",
    "grocery_list"
   ]
  },
  {
   "cell_type": "code",
   "execution_count": 64,
   "metadata": {},
   "outputs": [
    {
     "data": {
      "text/plain": [
       "[4, 'daytime', 23]"
      ]
     },
     "execution_count": 64,
     "metadata": {},
     "output_type": "execute_result"
    }
   ],
   "source": [
    "#also you can store mixed type of variables in a list\n",
    "mixed = [4,\"daytime\",23, \"!\"]\n",
    "type(mixed)\n",
    "mixed.pop()\n",
    "mixed"
   ]
  },
  {
   "cell_type": "markdown",
   "metadata": {},
   "source": [
    "## Tuple\n",
    "Same as a list, but once it is defined, you cannot alter the contents (immutable)"
   ]
  },
  {
   "cell_type": "code",
   "execution_count": 67,
   "metadata": {},
   "outputs": [
    {
     "ename": "AttributeError",
     "evalue": "'tuple' object has no attribute 'pop'",
     "output_type": "error",
     "traceback": [
      "\u001b[1;31m---------------------------------------------------------------------------\u001b[0m",
      "\u001b[1;31mAttributeError\u001b[0m                            Traceback (most recent call last)",
      "\u001b[1;32mc:\\Users\\Vijay\\Documents\\git\\datasci_training\\intro_python\\data_types.ipynb Cell 23\u001b[0m in \u001b[0;36m<cell line: 2>\u001b[1;34m()\u001b[0m\n\u001b[0;32m      <a href='vscode-notebook-cell:/c%3A/Users/Vijay/Documents/git/datasci_training/intro_python/data_types.ipynb#ch0000021?line=0'>1</a>\u001b[0m x \u001b[39m=\u001b[39m (\u001b[39m\"\u001b[39m\u001b[39mice cream\u001b[39m\u001b[39m\"\u001b[39m, \u001b[39m\"\u001b[39m\u001b[39mcookies\u001b[39m\u001b[39m\"\u001b[39m)\n\u001b[1;32m----> <a href='vscode-notebook-cell:/c%3A/Users/Vijay/Documents/git/datasci_training/intro_python/data_types.ipynb#ch0000021?line=1'>2</a>\u001b[0m x\u001b[39m.\u001b[39;49mpop()\n",
      "\u001b[1;31mAttributeError\u001b[0m: 'tuple' object has no attribute 'pop'"
     ]
    }
   ],
   "source": [
    "x = (\"ice cream\", \"cookies\")\n",
    "#x.pop() # can't do this because it removes an item from the tuple\n",
    "x[1] "
   ]
  },
  {
   "cell_type": "markdown",
   "metadata": {},
   "source": [
    "## Dictionary\n",
    "Imagine instead of having index numbers for each person, we can call on each person by their name.\n",
    "* a dictionary allows us to have key-value pairs, which means we can have a \n",
    "  * key = the name of the person \n",
    "  * value for each key = the actual person\n",
    "  \n",
    "<img src=\"./images/dictionary.png\" width=\"400\" height=\"200\"><br>\n",
    "\n",
    "Why don't we just store lists like this?\n",
    "* having an index be a number is a lot faster in terms of defining the index (i.e. the first item in a list will always have the index 0, if we used dictionaries, we would need to define the index each time) also takes up less space"
   ]
  },
  {
   "cell_type": "code",
   "execution_count": 75,
   "metadata": {},
   "outputs": [
    {
     "data": {
      "text/plain": [
       "{'Dave': 3.4, 'Becca': 4.0, 'Violet': 2.0}"
      ]
     },
     "execution_count": 75,
     "metadata": {},
     "output_type": "execute_result"
    }
   ],
   "source": [
    "#lets make a dictionary, where for each student we store their gpa\n",
    "##i.e. Dave has a gpa of 3.4\n",
    "gpas = {\"Dave\": 3.4, \"Becca\": 4.0, \"Violet\":2.0 }\n",
    "gpas.get(\"Dave\") # how to access a specific index\n",
    "gpas \n",
    "\n",
    "#list equivalint:\n",
    "gpas = [3.4,4.0,2.0]\n",
    "gpas[-1] #you can index with negative values as well (backwards in the list)"
   ]
  },
  {
   "cell_type": "markdown",
   "metadata": {},
   "source": [
    "# Programing Structures\n",
    "1. For loop <br>\n",
    "A way to run a specific piece of code over again for a set number of times\n",
    "\n",
    "2. While loop <br>\n",
    "A way to run a specific piece of code over until a condition is reached"
   ]
  },
  {
   "cell_type": "markdown",
   "metadata": {},
   "source": [
    "## For Loop\n",
    "Allows you to iterate over code for a specific number of times.\n",
    "* When we say iterate over a list or code, imagine tyring to figure out how many people are in a line. If you iterate over the line of people, you point at each person in the line and count up (i.e. 1,2,3,4...) till you figure out how many people are in the line in total "
   ]
  },
  {
   "cell_type": "code",
   "execution_count": null,
   "metadata": {},
   "outputs": [],
   "source": [
    "#Let's say we are really want someone's attention so we want to say \"excuse me\" multiple times\n",
    "print(\"excuse me\") \n",
    "print(\"excuse me\")\n",
    "print(\"excuse me\")\n",
    "print(\"excuse me\")\n",
    "\n",
    "#This can get kind of annoying for coding, because you are executing the same command over and over again\n",
    "#also the code takes up a lot of space: This is why we have for loops\n",
    "\n",
    "for i in range(4):\n",
    "    print(\"excuse me\") # whatever is indented is the code that will be run for a set number of iterations"
   ]
  },
  {
   "cell_type": "code",
   "execution_count": 80,
   "metadata": {},
   "outputs": [
    {
     "name": "stdout",
     "output_type": "stream",
     "text": [
      "1\n",
      "apple\n",
      "3\n",
      "4\n"
     ]
    }
   ],
   "source": [
    "#just as easily you could define a list to iterate over\n",
    "turns = [1,2,3,4]\n",
    "for i in turns:\n",
    "    print(i) # i is the variable that stores what turn or iteration you are on\n",
    "\n",
    "#The range function is a faster way to define the turns list we created\n",
    "for i in range(4):\n",
    "    print(i) "
   ]
  },
  {
   "cell_type": "markdown",
   "metadata": {},
   "source": [
    "## While Loops & Booleans\n",
    "A way to run a specific piece of code over until a condition is reached\n",
    "\n",
    "This is where the variable type booleans come in:\n",
    "A boolean variable can store logic \n",
    "\n",
    "### Booleans\n",
    "What does that mean? <br>\n",
    "Think about statements that can be labeled as true or false:\n",
    "1. It is raining outside (look outside, if it is -> TRUE)\n",
    "2. 3+4 = 7 -> TRUE\n",
    "3. 0>1 -> FALSE\n",
    "4. \"banana\" == \"bananan\" -> FALSE \n",
    "   1. \"banana\" == \"banana\" -> TRUE\n",
    "\n",
    "A boolean variable allows you to store this information"
   ]
  },
  {
   "cell_type": "code",
   "execution_count": 86,
   "metadata": {},
   "outputs": [
    {
     "name": "stdout",
     "output_type": "stream",
     "text": [
      "True\n"
     ]
    },
    {
     "data": {
      "text/plain": [
       "False"
      ]
     },
     "execution_count": 86,
     "metadata": {},
     "output_type": "execute_result"
    }
   ],
   "source": [
    "#How to create a boolean variable\n",
    "v = (0<1)\n",
    "print (v)\n",
    "\n",
    "v = False\n",
    "v"
   ]
  },
  {
   "cell_type": "code",
   "execution_count": 48,
   "metadata": {},
   "outputs": [
    {
     "name": "stdout",
     "output_type": "stream",
     "text": [
      "Andrew\n",
      "Ben\n",
      "Clarie\n",
      "-------------\n",
      "0\n",
      "1\n",
      "-------------\n",
      "1\n",
      "2\n",
      "-------------\n",
      "2\n",
      "3\n"
     ]
    }
   ],
   "source": [
    "#Let's say we want all the names that come before the name \"Darcy\"\n",
    "names = [\"Andrew\", \"Ben\", \"Clarie\", \"Darcy\", \"Dan\"]\n",
    "\n",
    "i=0\n",
    "while(names[i] != \"Darcy\"):\n",
    "    print(names[i])\n",
    "    i = i+1\n",
    "    \n",
    "#what's happening with i\n",
    "i=0\n",
    "while(names[i] != \"Darcy\"):\n",
    "    print(\"-------------\")\n",
    "    print(i)\n",
    "    i = i+1 \n",
    "    print(i)\n",
    "\n",
    "# i = 0+1 -> i = 1 first iteration\n",
    "# i = 1+1 -> i = 2 second iteration\n",
    "# i = 2+1 -> i = 3 third iteration\n",
    "# ...\n",
    "    "
   ]
  }
 ],
 "metadata": {
  "kernelspec": {
   "display_name": "Python 3.10.5 64-bit",
   "language": "python",
   "name": "python3"
  },
  "language_info": {
   "codemirror_mode": {
    "name": "ipython",
    "version": 3
   },
   "file_extension": ".py",
   "mimetype": "text/x-python",
   "name": "python",
   "nbconvert_exporter": "python",
   "pygments_lexer": "ipython3",
   "version": "3.10.5"
  },
  "orig_nbformat": 4,
  "vscode": {
   "interpreter": {
    "hash": "07d5a32a57a9b95007a05b5fb942622f50d5b6ab19394e9088a86b13b6e5a95b"
   }
  }
 },
 "nbformat": 4,
 "nbformat_minor": 2
}
